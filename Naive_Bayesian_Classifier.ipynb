{
  "nbformat": 4,
  "nbformat_minor": 0,
  "metadata": {
    "colab": {
      "name": "HW4.ipynb",
      "provenance": []
    },
    "kernelspec": {
      "name": "python3",
      "display_name": "Python 3"
    },
    "language_info": {
      "name": "python"
    }
  },
  "cells": [
    {
      "cell_type": "code",
      "metadata": {
        "colab": {
          "base_uri": "https://localhost:8080/"
        },
        "id": "T9m5-7Du0Kvw",
        "outputId": "b321cc71-15e7-418a-fc7c-6b571b37f30d"
      },
      "source": [
        "import numpy as np\n",
        "\n",
        "# 0:no 1:yes 2:sometimes\n",
        "data = np.array([[\"human\",1,0,0,1,1],\n",
        "                 [\"python\",0,0,0,0,0],\n",
        "                 [\"salmon\",0,0,1,0,0],\n",
        "                 [\"whale\",1,0,1,0,1],\n",
        "                 [\"frog\",0,0,2,1,0],\n",
        "                 [\"komodo\",0,0,0,1,0],\n",
        "                 [\"bat\",1,1,0,1,1],\n",
        "                 [\"pigeon\",0,1,0,1,0], \n",
        "                 [\"cat\",1,0,0,1,1],\n",
        "                 [\"leopard shark\",1,0,1,0,0],\n",
        "                 [\"turtle\",0,0,2,1,0],\n",
        "                 [\"penguin\",0,0,2,1,0],\n",
        "                 [\"porcupine\",1,0,0,1,1],\n",
        "                 [\"eel\",0,0,1,0,0],\n",
        "                 [\"salamander\",0,0,2,1,0],\n",
        "                 [\"gila monster\",0,0,0,1,0],\n",
        "                 [\"platypus\",0,0,0,1,1],\n",
        "                 [\"owl\",0,1,0,1,0],\n",
        "                 [\"dolphin\",1,0,1,0,1],\n",
        "                 [\"eagle\",0,1,0,1,0]\n",
        "                ])\n",
        "\n",
        "#計算先驗機率(Hypothesis) p(H)\n",
        "def p(attribute, status):\n",
        "    filter_arr = data[:, attribute] == status\n",
        "    new_array = data[filter_arr]\n",
        "    row_num = np.size(new_array, 0)\n",
        "    row_total = 20\n",
        "    probability = float\n",
        "    probability = row_num / row_total\n",
        "    return probability\n",
        "\n",
        "#計算先驗條件機率 p(E|H)\n",
        "def p_condition(attribute_e, status_e, attribute_h, status_h):\n",
        "    filter_h = data[:, attribute_h] == status_h\n",
        "    h_array = data[filter_h]\n",
        "    row_num_h = np.size(h_array, 0)\n",
        "    \n",
        "    filter_e_h = h_array[:, attribute_e] == status_e\n",
        "    e_h_array = h_array[filter_e_h]\n",
        "    row_num_e_h = np.size(e_h_array, 0)\n",
        "        \n",
        "    prob = float\n",
        "    prob = row_num_e_h / row_num_h\n",
        "    return prob\n",
        "\n",
        "#記錄使用者輸入的數值\n",
        "print(\"Enter animal type: \")\n",
        "animal = input()\n",
        "print(\"Enter attribute and its status: \")\n",
        "record = []\n",
        "input_GB = input(\"Give Birth? 0:No 1:Yes 2:Sometimes 3:Not considered\")\n",
        "if input_GB != 3:\n",
        "    record.append([1, input_GB])\n",
        "input_CF = input(\"Can Fly? 0:No 1:Yes 2:Sometimes 3:Not considered\")\n",
        "if input_CF != 3:\n",
        "    record.append([2, input_CF])\n",
        "input_LIW = input(\"Live In Water? 0:No 1:Yes 2:Sometimes 3:Not considered\")\n",
        "if input_LIW != 3:\n",
        "    record.append([3, input_LIW])\n",
        "input_HL = input(\"Have Legs? 0:No 1:Yes 2:Sometimes 3:Not considered\")\n",
        "if input_HL != 3:\n",
        "    record.append([4,input_HL])\n",
        "\n",
        "\n",
        "#先求出會用到的先驗條件機率(在H.NH的條件下，Evidence發生的機率，並用條件獨立將Evidence拆開相乘)\n",
        "#p(H|E) = p(H∩E)/p(E) = p(H)p(E|H) / p(H)p(E|H)+p(NH)p(E|NH)\n",
        "#因此先計算 p(E|H)及p(E|NH)\n",
        "p_e_h = float(1)\n",
        "p_e_nh = float(1)\n",
        "p_h = p(5, \"1\")\n",
        "p_nh = p(5, \"0\")\n",
        "for row in record:\n",
        "    p_e_h = p_e_h * p_condition(row[0], row[1], 5, \"1\")\n",
        "    p_e_nh = p_e_nh * p_condition(row[0], row[1], 5, \"0\")\n",
        "\n",
        "#計算後驗機率 p(H|E) H:為mammals\n",
        "p_h_e = float((p_h * p_e_h) / (p_h * p_e_h + p_nh * p_e_nh))\n",
        "\n",
        "#計算後驗機率 p(NH|E) NH:不為mammals\n",
        "p_nh_e = float((p_nh * p_e_nh) / (p_h * p_e_h + p_nh * p_e_nh))\n",
        "\n",
        "#輸出判斷\n",
        "if p_h_e > p_nh_e:\n",
        "    print(animal + \" is more likely to be mammals\")\n",
        "else:\n",
        "    print(animal + \" is more likely to be nonmammals\")"
      ],
      "execution_count": 3,
      "outputs": [
        {
          "output_type": "stream",
          "text": [
            "Enter animal type: \n",
            "salmon\n",
            "Enter attribute and its status: \n",
            "Give Birth? 0:No 1:Yes 2:Sometimes 3:Not considered0\n",
            "Can Fly? 0:No 1:Yes 2:Sometimes 3:Not considered0\n",
            "Live In Water? 0:No 1:Yes 2:Sometimes 3:Not considered1\n",
            "Have Legs? 0:No 1:Yes 2:Sometimes 3:Not considered0\n",
            "salmon is more likely to be nonmammals\n"
          ],
          "name": "stdout"
        }
      ]
    }
  ]
}