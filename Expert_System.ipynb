{
  "nbformat": 4,
  "nbformat_minor": 0,
  "metadata": {
    "colab": {
      "name": "HW3.ipynb",
      "provenance": []
    },
    "kernelspec": {
      "name": "python3",
      "display_name": "Python 3"
    },
    "language_info": {
      "name": "python"
    }
  },
  "cells": [
    {
      "cell_type": "code",
      "metadata": {
        "colab": {
          "base_uri": "https://localhost:8080/",
          "height": 0
        },
        "id": "igdhb4M-n1_o",
        "outputId": "0b8fafb4-172b-430d-a452-c09ce67a1c19"
      },
      "source": [
        "pip install experta"
      ],
      "execution_count": 1,
      "outputs": [
        {
          "output_type": "stream",
          "text": [
            "Collecting experta\n",
            "  Downloading https://files.pythonhosted.org/packages/03/5d/c06fad9dadbec34d95f548bca648ec0de2afd6f8eb2247194150ad38ee8f/experta-1.9.4-py3-none-any.whl\n",
            "Collecting frozendict==1.2\n",
            "  Downloading https://files.pythonhosted.org/packages/4e/55/a12ded2c426a4d2bee73f88304c9c08ebbdbadb82569ebdd6a0c007cfd08/frozendict-1.2.tar.gz\n",
            "Collecting schema==0.6.7\n",
            "  Downloading https://files.pythonhosted.org/packages/5d/42/32c059aa876eb16521a292e634d18f25408b2441862ff823f59af273d720/schema-0.6.7-py2.py3-none-any.whl\n",
            "Building wheels for collected packages: frozendict\n",
            "  Building wheel for frozendict (setup.py) ... \u001b[?25l\u001b[?25hdone\n",
            "  Created wheel for frozendict: filename=frozendict-1.2-cp37-none-any.whl size=3150 sha256=c41d4281a907d89bc484ac74a18fe9112afc953ab6c62ab9b126aa0181cdcd75\n",
            "  Stored in directory: /root/.cache/pip/wheels/6c/6c/e9/534386165bd12cf1885582c75eb6d0ffcb321b65c23fe0f834\n",
            "Successfully built frozendict\n",
            "Installing collected packages: frozendict, schema, experta\n",
            "Successfully installed experta-1.9.4 frozendict-1.2 schema-0.6.7\n"
          ],
          "name": "stdout"
        }
      ]
    },
    {
      "cell_type": "code",
      "metadata": {
        "colab": {
          "base_uri": "https://localhost:8080/",
          "height": 0
        },
        "id": "KbBGD-vqZZpJ",
        "outputId": "51314e6b-b04f-441c-d27d-fd9a241db3bf"
      },
      "source": [
        "from experta import *\n",
        "from experta.fact import *\n",
        "\n",
        "#subclasses of Fact\n",
        "class PubliclyAvailable(Fact): \n",
        "    PubAvail_answer = Field(str)\n",
        "    Proceed_To_PubAvail = Field(bool,default=False)\n",
        "class Consent(Fact): \n",
        "    Consent_answer = Field(str)\n",
        "    Proceed_To_Consent = Field(bool,default=False)\n",
        "class PublishedForProfit(Fact): \n",
        "    PubForPro_answer = Field(str)\n",
        "    Proceed_To_PubForPro = Field(bool,default=False)\n",
        "class Knowledge(Fact): \n",
        "    Knowledge_answer = Field(str)\n",
        "    Proceed_To_Knowledge = Field(bool,default=False)\n",
        "\n",
        "#Define the class of Knowledge Engine    \n",
        "class ShareLinkOnTheInt(KnowledgeEngine):\n",
        "  @DefFacts()\n",
        "  def Personal_Facts(self):\n",
        "    yield PubliclyAvailable()\n",
        "    yield Consent()\n",
        "    yield PublishedForProfit()\n",
        "    yield Knowledge()\n",
        "\n",
        "  #Startup of the Knowledge Engine\n",
        "  @Rule()\n",
        "  def startup(self):\n",
        "    print(\"In the following questions, Please enter 1 for yes, 2 for I don't know, 3 for No.\\n\")\n",
        "    self.declare(PubliclyAvailable(Proceed_To_PubAvail = True))\n",
        "    \n",
        "  #Publicly Available\n",
        "  @Rule(PubliclyAvailable(Proceed_To_PubAvail = True))\n",
        "  def PubliclyAvailableQ(self):\n",
        "    print(\"Is the work to which the link leads publicly available?\")\n",
        "    self.declare(PubliclyAvailable(PubAvail_answer = input()))  \n",
        "  @Rule(PubliclyAvailable(PubAvail_answer = \"1\"))\n",
        "  def PubliclyAvailable1(self):\n",
        "    self.declare(Consent(Proceed_To_Consent = True))    \n",
        "  @Rule(PubliclyAvailable(PubAvail_answer = \"3\"))\n",
        "  def PubliclyAvailable2(self):\n",
        "    print(\"it's not allowed! Publication of the link constitutes a potential infringement of the copyrights to the linked work.\")\n",
        "    \n",
        "  #Consent\n",
        "  @Rule(Consent(Proceed_To_Consent = True))\n",
        "  def ConsentQ(self):\n",
        "    print(\"Is the work to which the link leads posted with the consent of the copyright holder?\")\n",
        "    self.declare(Consent(Consent_answer = input()))\n",
        "  @Rule(Consent(Consent_answer = \"1\"))\n",
        "  def Consent1(self):\n",
        "    print(\"it's not allowed! Publication of the link does not infringe copyrights to the linked work.\")  \n",
        "  @Rule(Consent(Consent_answer = \"2\"))\n",
        "  def Consent2(self):\n",
        "    self.declare(PublishedForProfit(Proceed_To_PubForPro = True))\n",
        "  @Rule(Consent(Consent_answer = \"3\"))\n",
        "  def Consent3(self):\n",
        "    print(\"it's not allowed! Publication of the link infringes copyrights to the linked work.\")\n",
        "\n",
        "  #PublishedForProfit\n",
        "  @Rule(PublishedForProfit(Proceed_To_PubForPro = True))\n",
        "  def PublishedForProfitQ(self):\n",
        "    print(\"Is the link posted for profit?\")\n",
        "    self.declare(PublishedForProfit(PubForPro_answer = input())) \n",
        "  @Rule(PublishedForProfit(PubForPro_answer = \"1\"))\n",
        "  def PublishedForProfit1(self):\n",
        "    print(\"it's not allowed! Presumption of knowledge about illegal nature of the linked work and liability for copyright infringement.\")\n",
        "  @Rule(PublishedForProfit(PubForPro_answer = \"3\"))\n",
        "  def PublishedForProfit3(self):\n",
        "    self.declare(Knowledge(Proceed_To_Knowledge = True))\n",
        "\n",
        "  #Knowledge  \n",
        "  @Rule(Knowledge(Proceed_To_Knowledge = True))\n",
        "  def KnowledgeQ(self):\n",
        "    print(\"Does the person posting the link for private purposes know about the illegality of the linked work?\")\n",
        "    self.declare(Knowledge(Knowledge_answer = input()))\n",
        "  @Rule(Knowledge(Knowledge_answer = \"1\"))\n",
        "  def Knowledge1(self):\n",
        "    print(\"It's not allowed! Potential liablity for infringement of copyright to the linked work.\")\n",
        "  @Rule(Knowledge(Knowledge_answer = \"3\"))\n",
        "  def Knowledge3(self):\n",
        "    print(\"No infringement of copyrights to the linked work.\")\n",
        "\n",
        "#Execution\n",
        "KnowledgeEngine = ShareLinkOnTheInt()\n",
        "KnowledgeEngine.reset()\n",
        "KnowledgeEngine.run()"
      ],
      "execution_count": 2,
      "outputs": [
        {
          "output_type": "stream",
          "text": [
            "In the following questions, Please enter 1 for yes, 2 for I don't know, 3 for No.\n",
            "\n",
            "Is the work to which the link leads publicly available?\n",
            "1\n",
            "Is the work to which the link leads posted with the consent of the copyright holder?\n",
            "2\n",
            "Is the link posted for profit?\n",
            "3\n",
            "Does the person posting the link for private purposes know about the illegality of the linked work?\n",
            "1\n",
            "It's not allowed! Potential liablity for infringement of copyright to the linked work.\n"
          ],
          "name": "stdout"
        }
      ]
    }
  ]
}